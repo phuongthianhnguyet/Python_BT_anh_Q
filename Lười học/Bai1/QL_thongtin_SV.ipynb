{
 "cells": [
  {
   "cell_type": "code",
   "execution_count": null,
   "id": "36740da0",
   "metadata": {},
   "outputs": [],
   "source": [
    "''' Quản lí thông tin sinh viên \n",
    "MỤC TIÊU: làm quen với lớp, đối tượng và thuộc tính.\n",
    "Yêu cầu:\n",
    "    - Tạo một lớp Student với các thuộc tính: name, student_id, gpa.\n",
    "    - Thêm các phương thức:\n",
    "        + __init__: Khởi tạo các thuộc tính.\n",
    "        + display_info: Hiển thị thông tin sinh viên.\n",
    "        + update_gpa: cập nhật điểm trung bình. '''\n",
    "\n",
    "\n"
   ]
  },
  {
   "cell_type": "code",
   "execution_count": 11,
   "id": "e202c712",
   "metadata": {},
   "outputs": [
    {
     "name": "stdout",
     "output_type": "stream",
     "text": [
      "Thông tin: Sinh viên Phương Thị Ánh Nguyệt, có GPA là: 6.7\n",
      "Thông tin: Sinh viên Nguyễn Thị Thu Hiền, có GPA là: 3.7\n",
      "Thông tin: Sinh viên Trần Thị Thu Hà, có GPA là: 9.9\n",
      "Thông tin: Sinh viên Phương Thị Ánh Nguyệt, có GPA là: 6\n"
     ]
    }
   ],
   "source": [
    "# Bai 1\n",
    "class Student:\n",
    "    def __init__(self, name, id, gpa):\n",
    "        self.name = name;\n",
    "        self.id = id;\n",
    "        self.gpa = gpa;\n",
    "    \n",
    "    def display_info(self):\n",
    "        print(f\"Thông tin: Sinh viên {self.name}, có GPA là: {self.gpa}\")\n",
    "\n",
    "    def update_gpa(self, new_gpa):\n",
    "        if (0 <=new_gpa <= 10):\n",
    "            self.gpa = new_gpa;\n",
    "        else:\n",
    "            print(\"Thông tin điểm không phù hợp\")\n",
    "\n",
    "list = [\n",
    "        Student(\"Phương Thị Ánh Nguyệt\", \"K225480106098\", 6.7),\n",
    "        Student(\"Nguyễn Thị Thu Hiền\", \"K225480106015\", 3.7),\n",
    "        Student(\"Trần Thị Thu Hà\", \"K225480106009\", 9.9),\n",
    "\n",
    "    ]\n",
    "for item in list:\n",
    "    item.display_info()\n",
    "\n",
    "list[0].update_gpa(6)\n",
    "list[0].display_info()\n"
   ]
  }
 ],
 "metadata": {
  "kernelspec": {
   "display_name": "Nguyet",
   "language": "python",
   "name": "python3"
  },
  "language_info": {
   "codemirror_mode": {
    "name": "ipython",
    "version": 3
   },
   "file_extension": ".py",
   "mimetype": "text/x-python",
   "name": "python",
   "nbconvert_exporter": "python",
   "pygments_lexer": "ipython3",
   "version": "3.12.9"
  }
 },
 "nbformat": 4,
 "nbformat_minor": 5
}
