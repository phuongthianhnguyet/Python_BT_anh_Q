{
 "cells": [
  {
   "cell_type": "code",
   "execution_count": 7,
   "id": "9e96c298",
   "metadata": {},
   "outputs": [
    {
     "name": "stdout",
     "output_type": "stream",
     "text": [
      "Name: Phương Thị Ánh Nguyệt, Salary: 5000000\n",
      "Tax: 500000.0\n",
      "Name: Phương Trọng Nghĩa, Salary: 5000000\n"
     ]
    }
   ],
   "source": [
    "'''Bài tập 3: Quản lý thông tin nhân viên\n",
    "Mục tiêu: Hiểu cách sử dụng public và private attributes để bảo vệ dữ liệu.\n",
    "Yêu cầu:\n",
    "- Tạo một lớp Employee với:\n",
    "\tPublic attributes: name (tên nhân viên).\n",
    "\tPrivate attributes: _salary (lương).\n",
    "- Public methods:\n",
    "\t__init__: Khởi tạo tên và lương.\n",
    "\tdisplay_info: Hiển thị tên và lương.\n",
    "\tPrivate method: _calculate_tax (tính thuế, giả sử thuế là 10% lương).\n",
    "\tThêm phương thức public get_tax để gọi _calculate_tax và trả về thuế.\n",
    "\tTạo một nhân viên, hiển thị thông tin và tính thuế.\n",
    "'''\n",
    "\n",
    "\n",
    "class Employee:\n",
    "    def __init__(self, name, salary):\n",
    "        self.name = name  # Public\n",
    "        self._salary = salary  # Private\n",
    "    def _calculate_tax(self):  # Private method\n",
    "        return self._salary * 0.1\n",
    "    def get_tax(self):  # Public method\n",
    "        return self._calculate_tax()\n",
    "    def display_info(self):  # Public method\n",
    "        print(f\"Name: {self.name}, Salary: {self._salary}\")\n",
    "emp = Employee(\"Phương Thị Ánh Nguyệt\", 5000000)\n",
    "\n",
    "emp.display_info()\n",
    "print(f\"Tax: {emp.get_tax()}\")\n",
    "Change = Employee(\"Phương Thị Ánh Nguyệt\", 5000000)\n",
    "Change.name = \"Phương Trọng Nghĩa\"\n",
    "Change.salary = 555\n",
    "Change.display_info()"
   ]
  }
 ],
 "metadata": {
  "kernelspec": {
   "display_name": "Nguyet",
   "language": "python",
   "name": "python3"
  },
  "language_info": {
   "codemirror_mode": {
    "name": "ipython",
    "version": 3
   },
   "file_extension": ".py",
   "mimetype": "text/x-python",
   "name": "python",
   "nbconvert_exporter": "python",
   "pygments_lexer": "ipython3",
   "version": "3.12.9"
  }
 },
 "nbformat": 4,
 "nbformat_minor": 5
}
