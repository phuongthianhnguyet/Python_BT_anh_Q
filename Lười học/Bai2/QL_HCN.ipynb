{
 "cells": [
  {
   "cell_type": "code",
   "execution_count": null,
   "id": "5248b886",
   "metadata": {},
   "outputs": [],
   "source": [
    "''' Lớp quản lí HCN\n",
    "MỤC TIÊU: áp dụng thuộc tính và phương thức để tính toán.\n",
    "Yêu cầu:\n",
    "    - Tạo một lớp Rectangle với các thuộc tính:\n",
    "    width (chiều rộng)\n",
    "    height (chiều dài)\n",
    "    - Thêm các phươnng thức:\n",
    "    __init__: Khởi tạo các thuộc tính.'''\n",
    "\n"
   ]
  },
  {
   "cell_type": "code",
   "execution_count": 5,
   "id": "4092eb23",
   "metadata": {},
   "outputs": [
    {
     "name": "stdout",
     "output_type": "stream",
     "text": [
      "ket qua chu vi 7 va 2 la: \n",
      "==> dientich 14, chu vi 18\n"
     ]
    }
   ],
   "source": [
    "#Bai 2\n",
    "\n",
    "class re:\n",
    "    def __init__(self, chieudai, chieurong):\n",
    "        self.height = chieudai\n",
    "        self.width = chieurong\n",
    "    def area(self):\n",
    "        return self.height*self.width\n",
    "    def chuvi(self):\n",
    "        return (2* (self.height + self.width))\n",
    "    def hien_thi(self):\n",
    "        print(f\"ket qua chu vi {self.width} va {self.height} la: \\n==> dientich {self.area()}, chu vi {self.chuvi()}\")\n",
    "tinh = re(2, 7)\n",
    "tinh.hien_thi()"
   ]
  }
 ],
 "metadata": {
  "kernelspec": {
   "display_name": "Nguyet",
   "language": "python",
   "name": "python3"
  },
  "language_info": {
   "codemirror_mode": {
    "name": "ipython",
    "version": 3
   },
   "file_extension": ".py",
   "mimetype": "text/x-python",
   "name": "python",
   "nbconvert_exporter": "python",
   "pygments_lexer": "ipython3",
   "version": "3.12.9"
  }
 },
 "nbformat": 4,
 "nbformat_minor": 5
}
