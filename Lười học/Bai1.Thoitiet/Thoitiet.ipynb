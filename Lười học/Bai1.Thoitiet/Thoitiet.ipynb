{
 "cells": [
  {
   "cell_type": "code",
   "execution_count": null,
   "id": "412edf82",
   "metadata": {},
   "outputs": [],
   "source": [
    "'''Bài 1: \n",
    "Thực hiện lấy dữ liệu thời tiết từ url sau: https://api.open-meteo.com/v1/forecast?latitude=52.52&longitude=13.41&past_days=10&hourly=temperature_2m,relative_humidity_2m,wind_speed_10m\n",
    "Yêu cầu:\n",
    "+ Lấy thông tin dữ liệu các trường: latitude, longitude, time, temperature_2m, relative_humidity_2m, wind_speed_10m và lưu vào một file .csv\n",
    "+ Dựa vào dữ liệu đã lấy được đó. Hãy thực hiện tính tổng các giá trị của temperature_2m, relative_humidity_2m, wind_speed_10m từ đầu đến ngày 29-04'''\n",
    "\n",
    "\n"
   ]
  },
  {
   "cell_type": "code",
   "execution_count": 7,
   "id": "3dfcbc7a",
   "metadata": {},
   "outputs": [
    {
     "name": "stdout",
     "output_type": "stream",
     "text": [
      " Đã lưu dữ liệu vào weather_data.csv\n"
     ]
    }
   ],
   "source": [
    "import requests\n",
    "import pandas as pd\n",
    "\n",
    "# Bước 1: Gửi request đến API\n",
    "url = \"https://api.open-meteo.com/v1/forecast\"\n",
    "params = {\n",
    "    \"latitude\": 52.52,\n",
    "    \"longitude\": 13.41,\n",
    "    \"past_days\": 10,\n",
    "    \"hourly\": \"temperature_2m,relative_humidity_2m,wind_speed_10m\"\n",
    "}\n",
    "\n",
    "response = requests.get(url, params=params)\n",
    "data = response.json()\n",
    "\n",
    "# Bước 2: Trích xuất dữ liệu\n",
    "latitude = data['latitude']\n",
    "longitude = data['longitude']\n",
    "time = data['hourly']['time']\n",
    "temperature = data['hourly']['temperature_2m']\n",
    "humidity = data['hourly']['relative_humidity_2m']\n",
    "wind_speed = data['hourly']['wind_speed_10m']\n",
    "\n",
    "# Bước 3: Gộp dữ liệu thành DataFrame\n",
    "df = pd.DataFrame({\n",
    "    \"latitude\": latitude,\n",
    "    \"longitude\": longitude,\n",
    "    \"time\": time,\n",
    "    \"temperature_2m\": temperature,\n",
    "    \"relative_humidity_2m\": humidity,\n",
    "    \"wind_speed_10m\": wind_speed\n",
    "})\n",
    "\n",
    "# Bước 4: Lưu file CSV\n",
    "df.to_csv(\"weather_data.csv\", index=False)\n",
    "print(\" Đã lưu dữ liệu vào weather_data.csv\")\n"
   ]
  },
  {
   "cell_type": "code",
   "execution_count": 6,
   "id": "9d1586e5",
   "metadata": {},
   "outputs": [
    {
     "name": "stdout",
     "output_type": "stream",
     "text": [
      "🌡️ Tổng temperature_2m: 3473.8\n",
      "💧 Tổng relative_humidity_2m: 16256\n",
      "🌬️ Tổng wind_speed_10m: 2171.2\n"
     ]
    }
   ],
   "source": [
    "# Đọc lại dữ liệu từ file CSV\n",
    "df = pd.read_csv(\"weather_data.csv\")\n",
    "\n",
    "# Chuyển cột time thành định dạng ngày giờ\n",
    "df['time'] = pd.to_datetime(df['time'])\n",
    "\n",
    "# Lọc dữ liệu đến hết ngày 29-04\n",
    "df_filtered = df[df['time'] <= '2025-04-29 23:59:59']\n",
    "\n",
    "# Tính tổng các cột\n",
    "total_temp = df_filtered['temperature_2m'].sum()\n",
    "total_humidity = df_filtered['relative_humidity_2m'].sum()\n",
    "total_wind = df_filtered['wind_speed_10m'].sum()\n",
    "\n",
    "# In kết quả\n",
    "print(\"🌡️ Tổng temperature_2m:\", total_temp)\n",
    "print(\"💧 Tổng relative_humidity_2m:\", total_humidity)\n",
    "print(\"🌬️ Tổng wind_speed_10m:\", total_wind)\n"
   ]
  }
 ],
 "metadata": {
  "kernelspec": {
   "display_name": "Nguyet",
   "language": "python",
   "name": "python3"
  },
  "language_info": {
   "codemirror_mode": {
    "name": "ipython",
    "version": 3
   },
   "file_extension": ".py",
   "mimetype": "text/x-python",
   "name": "python",
   "nbconvert_exporter": "python",
   "pygments_lexer": "ipython3",
   "version": "3.12.9"
  }
 },
 "nbformat": 4,
 "nbformat_minor": 5
}
